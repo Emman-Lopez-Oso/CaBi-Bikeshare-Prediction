{
 "cells": [
  {
   "cell_type": "code",
   "execution_count": 12,
   "id": "f3b7022c-b799-4a2e-a2ae-45bbb4fe3898",
   "metadata": {},
   "outputs": [],
   "source": [
    "# I/O\n",
    "import pandas as pd\n",
    "import numpy as np\n",
    "import geopandas as gpd\n",
    "import requests\n",
    "from io import BytesIO\n",
    "from zipfile import ZipFile\n",
    "from datetime import datetime, timedelta"
   ]
  },
  {
   "cell_type": "code",
   "execution_count": 2,
   "id": "b67cac9c-44fb-405d-8bb1-fc98f60f0ea3",
   "metadata": {},
   "outputs": [],
   "source": [
    "# URL of the zipped data file\n",
    "urls = ['https://s3.amazonaws.com/capitalbikeshare-data/202401-capitalbikeshare-tripdata.zip',\n",
    "        'https://s3.amazonaws.com/capitalbikeshare-data/202402-capitalbikeshare-tripdata.zip', \n",
    "       'https://s3.amazonaws.com/capitalbikeshare-data/202403-capitalbikeshare-tripdata.zip']"
   ]
  },
  {
   "cell_type": "code",
   "execution_count": 3,
   "id": "bb4cd35c-500f-4bda-bafc-697a2536ea80",
   "metadata": {},
   "outputs": [],
   "source": [
    "# List to store DataFrames\n",
    "dataframes = []\n",
    "# Loop through each URL\n",
    "for url in urls:\n",
    "    # Download the zipped file\n",
    "    response = requests.get(url)\n",
    "    zipfile = ZipFile(BytesIO(response.content))\n",
    "    \n",
    "    # List files in the zip file\n",
    "    file_name = zipfile.namelist()[0]\n",
    "    \n",
    "    # Read the desired file into a pandas DataFrame\n",
    "    with zipfile.open(file_name) as file:\n",
    "        combined_df = pd.read_csv(file)\n",
    "        dataframes.append(combined_df)\n",
    "\n",
    "# Concatenate all DataFrames into one\n",
    "combined_combined_df = pd.concat(dataframes, ignore_index=True)"
   ]
  },
  {
   "cell_type": "code",
   "execution_count": 4,
   "id": "ec091b7b-b2a6-4c59-913a-a8781d8021da",
   "metadata": {},
   "outputs": [
    {
     "data": {
      "text/html": [
       "<div>\n",
       "<style scoped>\n",
       "    .dataframe tbody tr th:only-of-type {\n",
       "        vertical-align: middle;\n",
       "    }\n",
       "\n",
       "    .dataframe tbody tr th {\n",
       "        vertical-align: top;\n",
       "    }\n",
       "\n",
       "    .dataframe thead th {\n",
       "        text-align: right;\n",
       "    }\n",
       "</style>\n",
       "<table border=\"1\" class=\"dataframe\">\n",
       "  <thead>\n",
       "    <tr style=\"text-align: right;\">\n",
       "      <th></th>\n",
       "      <th>ride_id</th>\n",
       "      <th>rideable_type</th>\n",
       "      <th>started_at</th>\n",
       "      <th>ended_at</th>\n",
       "      <th>start_station_name</th>\n",
       "      <th>start_station_id</th>\n",
       "      <th>end_station_name</th>\n",
       "      <th>end_station_id</th>\n",
       "      <th>start_lat</th>\n",
       "      <th>start_lng</th>\n",
       "      <th>end_lat</th>\n",
       "      <th>end_lng</th>\n",
       "      <th>member_casual</th>\n",
       "    </tr>\n",
       "  </thead>\n",
       "  <tbody>\n",
       "    <tr>\n",
       "      <th>0</th>\n",
       "      <td>748A93D7DE8A41CD</td>\n",
       "      <td>classic_bike</td>\n",
       "      <td>2024-01-25 15:49:59</td>\n",
       "      <td>2024-01-25 15:52:35</td>\n",
       "      <td>1st &amp; O St NW</td>\n",
       "      <td>31519.0</td>\n",
       "      <td>1st &amp; L St NW</td>\n",
       "      <td>31677.0</td>\n",
       "      <td>38.908643</td>\n",
       "      <td>-77.012365</td>\n",
       "      <td>38.903819</td>\n",
       "      <td>-77.011987</td>\n",
       "      <td>member</td>\n",
       "    </tr>\n",
       "    <tr>\n",
       "      <th>1</th>\n",
       "      <td>75CBFD136F06305B</td>\n",
       "      <td>classic_bike</td>\n",
       "      <td>2024-01-02 16:44:58</td>\n",
       "      <td>2024-01-02 16:53:25</td>\n",
       "      <td>1st &amp; O St NW</td>\n",
       "      <td>31519.0</td>\n",
       "      <td>4th &amp; College St NW</td>\n",
       "      <td>31138.0</td>\n",
       "      <td>38.908643</td>\n",
       "      <td>-77.012365</td>\n",
       "      <td>38.921233</td>\n",
       "      <td>-77.018135</td>\n",
       "      <td>member</td>\n",
       "    </tr>\n",
       "    <tr>\n",
       "      <th>2</th>\n",
       "      <td>0536C9720F87E04C</td>\n",
       "      <td>classic_bike</td>\n",
       "      <td>2024-01-24 15:40:15</td>\n",
       "      <td>2024-01-24 15:43:55</td>\n",
       "      <td>1st &amp; O St NW</td>\n",
       "      <td>31519.0</td>\n",
       "      <td>1st &amp; L St NW</td>\n",
       "      <td>31677.0</td>\n",
       "      <td>38.908643</td>\n",
       "      <td>-77.012365</td>\n",
       "      <td>38.903819</td>\n",
       "      <td>-77.011987</td>\n",
       "      <td>member</td>\n",
       "    </tr>\n",
       "    <tr>\n",
       "      <th>3</th>\n",
       "      <td>9E17390C218783B5</td>\n",
       "      <td>classic_bike</td>\n",
       "      <td>2024-01-04 15:35:00</td>\n",
       "      <td>2024-01-04 15:37:35</td>\n",
       "      <td>1st &amp; O St NW</td>\n",
       "      <td>31519.0</td>\n",
       "      <td>1st &amp; L St NW</td>\n",
       "      <td>31677.0</td>\n",
       "      <td>38.908643</td>\n",
       "      <td>-77.012365</td>\n",
       "      <td>38.903819</td>\n",
       "      <td>-77.011987</td>\n",
       "      <td>member</td>\n",
       "    </tr>\n",
       "    <tr>\n",
       "      <th>4</th>\n",
       "      <td>00727D0E773CDFF7</td>\n",
       "      <td>electric_bike</td>\n",
       "      <td>2024-01-05 12:27:58</td>\n",
       "      <td>2024-01-05 12:35:40</td>\n",
       "      <td>1st &amp; O St NW</td>\n",
       "      <td>31519.0</td>\n",
       "      <td>10th &amp; G St NW</td>\n",
       "      <td>31274.0</td>\n",
       "      <td>38.908690</td>\n",
       "      <td>-77.012317</td>\n",
       "      <td>38.898243</td>\n",
       "      <td>-77.026235</td>\n",
       "      <td>casual</td>\n",
       "    </tr>\n",
       "  </tbody>\n",
       "</table>\n",
       "</div>"
      ],
      "text/plain": [
       "            ride_id  rideable_type           started_at             ended_at  \\\n",
       "0  748A93D7DE8A41CD   classic_bike  2024-01-25 15:49:59  2024-01-25 15:52:35   \n",
       "1  75CBFD136F06305B   classic_bike  2024-01-02 16:44:58  2024-01-02 16:53:25   \n",
       "2  0536C9720F87E04C   classic_bike  2024-01-24 15:40:15  2024-01-24 15:43:55   \n",
       "3  9E17390C218783B5   classic_bike  2024-01-04 15:35:00  2024-01-04 15:37:35   \n",
       "4  00727D0E773CDFF7  electric_bike  2024-01-05 12:27:58  2024-01-05 12:35:40   \n",
       "\n",
       "  start_station_name  start_station_id     end_station_name  end_station_id  \\\n",
       "0      1st & O St NW           31519.0        1st & L St NW         31677.0   \n",
       "1      1st & O St NW           31519.0  4th & College St NW         31138.0   \n",
       "2      1st & O St NW           31519.0        1st & L St NW         31677.0   \n",
       "3      1st & O St NW           31519.0        1st & L St NW         31677.0   \n",
       "4      1st & O St NW           31519.0       10th & G St NW         31274.0   \n",
       "\n",
       "   start_lat  start_lng    end_lat    end_lng member_casual  \n",
       "0  38.908643 -77.012365  38.903819 -77.011987        member  \n",
       "1  38.908643 -77.012365  38.921233 -77.018135        member  \n",
       "2  38.908643 -77.012365  38.903819 -77.011987        member  \n",
       "3  38.908643 -77.012365  38.903819 -77.011987        member  \n",
       "4  38.908690 -77.012317  38.898243 -77.026235        casual  "
      ]
     },
     "execution_count": 4,
     "metadata": {},
     "output_type": "execute_result"
    }
   ],
   "source": [
    "# Display the DataFrame\n",
    "combined_combined_df.head()"
   ]
  },
  {
   "cell_type": "markdown",
   "id": "0ad29813-ffa2-4af0-b970-65d675200f42",
   "metadata": {},
   "source": [
    "# Exploratory Data Analysis  \n",
    "\n",
    "Let's start creating new variables within our dataset and taking a look at its structure. "
   ]
  },
  {
   "cell_type": "code",
   "execution_count": 5,
   "id": "2aa0a950-b00d-4d9b-92f4-e9a3a0997cf8",
   "metadata": {},
   "outputs": [
    {
     "name": "stdout",
     "output_type": "stream",
     "text": [
      "<class 'pandas.core.frame.DataFrame'>\n",
      "RangeIndex: 436946 entries, 0 to 436945\n",
      "Data columns (total 13 columns):\n",
      " #   Column              Non-Null Count   Dtype  \n",
      "---  ------              --------------   -----  \n",
      " 0   ride_id             436946 non-null  object \n",
      " 1   rideable_type       436946 non-null  object \n",
      " 2   started_at          436946 non-null  object \n",
      " 3   ended_at            436946 non-null  object \n",
      " 4   start_station_name  371894 non-null  object \n",
      " 5   start_station_id    371894 non-null  float64\n",
      " 6   end_station_name    368605 non-null  object \n",
      " 7   end_station_id      368500 non-null  float64\n",
      " 8   start_lat           436946 non-null  float64\n",
      " 9   start_lng           436946 non-null  float64\n",
      " 10  end_lat             436558 non-null  float64\n",
      " 11  end_lng             436558 non-null  float64\n",
      " 12  member_casual       436946 non-null  object \n",
      "dtypes: float64(6), object(7)\n",
      "memory usage: 43.3+ MB\n"
     ]
    }
   ],
   "source": [
    "combined_df.info()"
   ]
  },
  {
   "cell_type": "markdown",
   "id": "485d464e-e3a4-4d00-9fc3-f9b7c94d1279",
   "metadata": {},
   "source": [
    "Start creating variables: \n",
    "- Start and End Dates\n",
    "- Start and End Times\n",
    "- Convert Station IDs to Character Integers\n",
    "- Create new geocombined_dfs that have start and end locations so that we can create the neighborhoods that they started and ended in\n",
    "- "
   ]
  },
  {
   "cell_type": "code",
   "execution_count": 6,
   "id": "93ecadb0-f639-4d51-99ea-8a71c04d4d6a",
   "metadata": {},
   "outputs": [],
   "source": [
    "combined_df[\"started_at\"]= pd.to_datetime(combined_df[\"started_at\"])\n",
    "combined_df[\"started_at_date\"]= pd.to_datetime(combined_df[\"started_at\"]).dt.date\n",
    "combined_df[\"started_at_time\"]= pd.to_datetime(combined_df[\"started_at\"]).dt.time\n",
    "combined_df[\"ended_at\"]= pd.to_datetime(combined_df[\"ended_at\"])\n",
    "combined_df[\"ended_at_date\"]= pd.to_datetime(combined_df[\"ended_at\"]).dt.date\n",
    "combined_df[\"ended_at_time\"]= pd.to_datetime(combined_df[\"ended_at\"]).dt.time\n",
    "combined_df[\"duration\"] = pd.to_datetime(combined_df[\"ended_at\"]) - pd.to_datetime(combined_df[\"started_at\"])\n",
    "combined_df[\"duration_minutes\"] = combined_df.duration.apply(lambda td: td.total_seconds() / 60)\n",
    "combined_df[\"start_station_id\"] = combined_df[\"start_station_id\"].astype(str)\n",
    "combined_df[\"end_station_id\"] = combined_df[\"end_station_id\"].astype(str) \n",
    "# Filter dataframe to only have rides between 30 seconds and 2 hours\n",
    "og_df_size = combined_df.shape[0]\n",
    "combined_df = combined_df.loc[(combined_df['duration_minutes']>=.5) & (combined_df['duration_minutes']<=120) ]"
   ]
  },
  {
   "cell_type": "code",
   "execution_count": 7,
   "id": "1c3c1fcc-cd12-4be4-8b03-c90b5f02a256",
   "metadata": {},
   "outputs": [
    {
     "data": {
      "text/plain": [
       "0.9777546882223432"
      ]
     },
     "execution_count": 7,
     "metadata": {},
     "output_type": "execute_result"
    }
   ],
   "source": [
    "og_df_size\n",
    "new_df_size = combined_df.shape[0]\n",
    "new_df_size/og_df_size"
   ]
  },
  {
   "cell_type": "code",
   "execution_count": 8,
   "id": "dcd6b45f-63c0-4d4c-b260-8ee9458fa9e7",
   "metadata": {},
   "outputs": [
    {
     "data": {
      "text/html": [
       "<div>\n",
       "<style scoped>\n",
       "    .dataframe tbody tr th:only-of-type {\n",
       "        vertical-align: middle;\n",
       "    }\n",
       "\n",
       "    .dataframe tbody tr th {\n",
       "        vertical-align: top;\n",
       "    }\n",
       "\n",
       "    .dataframe thead th {\n",
       "        text-align: right;\n",
       "    }\n",
       "</style>\n",
       "<table border=\"1\" class=\"dataframe\">\n",
       "  <thead>\n",
       "    <tr style=\"text-align: right;\">\n",
       "      <th></th>\n",
       "      <th>started_at</th>\n",
       "      <th>ended_at</th>\n",
       "      <th>start_lat</th>\n",
       "      <th>start_lng</th>\n",
       "      <th>end_lat</th>\n",
       "      <th>end_lng</th>\n",
       "      <th>duration</th>\n",
       "      <th>duration_minutes</th>\n",
       "    </tr>\n",
       "  </thead>\n",
       "  <tbody>\n",
       "    <tr>\n",
       "      <th>count</th>\n",
       "      <td>427226</td>\n",
       "      <td>427226</td>\n",
       "      <td>427226.000000</td>\n",
       "      <td>427226.000000</td>\n",
       "      <td>427226.000000</td>\n",
       "      <td>427226.000000</td>\n",
       "      <td>427226</td>\n",
       "      <td>427226.000000</td>\n",
       "    </tr>\n",
       "    <tr>\n",
       "      <th>mean</th>\n",
       "      <td>2024-03-17 10:53:56.171096832</td>\n",
       "      <td>2024-03-17 11:08:53.587810816</td>\n",
       "      <td>38.904837</td>\n",
       "      <td>-77.031332</td>\n",
       "      <td>38.903965</td>\n",
       "      <td>-77.031151</td>\n",
       "      <td>0 days 00:14:57.416713870</td>\n",
       "      <td>14.956945</td>\n",
       "    </tr>\n",
       "    <tr>\n",
       "      <th>min</th>\n",
       "      <td>2024-03-01 00:00:22</td>\n",
       "      <td>2024-03-01 00:07:47</td>\n",
       "      <td>38.760000</td>\n",
       "      <td>-77.370000</td>\n",
       "      <td>38.710000</td>\n",
       "      <td>-77.440000</td>\n",
       "      <td>0 days 00:00:30</td>\n",
       "      <td>0.500000</td>\n",
       "    </tr>\n",
       "    <tr>\n",
       "      <th>25%</th>\n",
       "      <td>2024-03-10 15:43:06.249999872</td>\n",
       "      <td>2024-03-10 15:56:52</td>\n",
       "      <td>38.892223</td>\n",
       "      <td>-77.043074</td>\n",
       "      <td>38.890540</td>\n",
       "      <td>-77.043182</td>\n",
       "      <td>0 days 00:05:49</td>\n",
       "      <td>5.816667</td>\n",
       "    </tr>\n",
       "    <tr>\n",
       "      <th>50%</th>\n",
       "      <td>2024-03-17 12:01:29</td>\n",
       "      <td>2024-03-17 12:19:46</td>\n",
       "      <td>38.903750</td>\n",
       "      <td>-77.030000</td>\n",
       "      <td>38.903040</td>\n",
       "      <td>-77.030000</td>\n",
       "      <td>0 days 00:10:07</td>\n",
       "      <td>10.116667</td>\n",
       "    </tr>\n",
       "    <tr>\n",
       "      <th>75%</th>\n",
       "      <td>2024-03-24 18:41:54.249999872</td>\n",
       "      <td>2024-03-24 19:00:39.750000128</td>\n",
       "      <td>38.917668</td>\n",
       "      <td>-77.012344</td>\n",
       "      <td>38.915544</td>\n",
       "      <td>-77.012289</td>\n",
       "      <td>0 days 00:17:40</td>\n",
       "      <td>17.666667</td>\n",
       "    </tr>\n",
       "    <tr>\n",
       "      <th>max</th>\n",
       "      <td>2024-03-31 23:58:41</td>\n",
       "      <td>2024-04-01 00:50:05</td>\n",
       "      <td>39.125828</td>\n",
       "      <td>-76.820000</td>\n",
       "      <td>39.125828</td>\n",
       "      <td>-76.820000</td>\n",
       "      <td>0 days 02:00:00</td>\n",
       "      <td>120.000000</td>\n",
       "    </tr>\n",
       "    <tr>\n",
       "      <th>std</th>\n",
       "      <td>NaN</td>\n",
       "      <td>NaN</td>\n",
       "      <td>0.026159</td>\n",
       "      <td>0.034113</td>\n",
       "      <td>0.026088</td>\n",
       "      <td>0.034024</td>\n",
       "      <td>0 days 00:15:35.989089177</td>\n",
       "      <td>15.599818</td>\n",
       "    </tr>\n",
       "  </tbody>\n",
       "</table>\n",
       "</div>"
      ],
      "text/plain": [
       "                          started_at                       ended_at  \\\n",
       "count                         427226                         427226   \n",
       "mean   2024-03-17 10:53:56.171096832  2024-03-17 11:08:53.587810816   \n",
       "min              2024-03-01 00:00:22            2024-03-01 00:07:47   \n",
       "25%    2024-03-10 15:43:06.249999872            2024-03-10 15:56:52   \n",
       "50%              2024-03-17 12:01:29            2024-03-17 12:19:46   \n",
       "75%    2024-03-24 18:41:54.249999872  2024-03-24 19:00:39.750000128   \n",
       "max              2024-03-31 23:58:41            2024-04-01 00:50:05   \n",
       "std                              NaN                            NaN   \n",
       "\n",
       "           start_lat      start_lng        end_lat        end_lng  \\\n",
       "count  427226.000000  427226.000000  427226.000000  427226.000000   \n",
       "mean       38.904837     -77.031332      38.903965     -77.031151   \n",
       "min        38.760000     -77.370000      38.710000     -77.440000   \n",
       "25%        38.892223     -77.043074      38.890540     -77.043182   \n",
       "50%        38.903750     -77.030000      38.903040     -77.030000   \n",
       "75%        38.917668     -77.012344      38.915544     -77.012289   \n",
       "max        39.125828     -76.820000      39.125828     -76.820000   \n",
       "std         0.026159       0.034113       0.026088       0.034024   \n",
       "\n",
       "                        duration  duration_minutes  \n",
       "count                     427226     427226.000000  \n",
       "mean   0 days 00:14:57.416713870         14.956945  \n",
       "min              0 days 00:00:30          0.500000  \n",
       "25%              0 days 00:05:49          5.816667  \n",
       "50%              0 days 00:10:07         10.116667  \n",
       "75%              0 days 00:17:40         17.666667  \n",
       "max              0 days 02:00:00        120.000000  \n",
       "std    0 days 00:15:35.989089177         15.599818  "
      ]
     },
     "execution_count": 8,
     "metadata": {},
     "output_type": "execute_result"
    }
   ],
   "source": [
    "combined_df.describe()"
   ]
  },
  {
   "cell_type": "markdown",
   "id": "19eb9e91-b215-4348-8738-d6c4dd823400",
   "metadata": {},
   "source": [
    "Create two new dataframes: \n",
    "1. Start times combined_df that has the location they started at if it has a station\n",
    "2. End times combined_df that has the location they ended at if it has a station "
   ]
  },
  {
   "cell_type": "code",
   "execution_count": 9,
   "id": "90b10ad6-4805-4670-b188-fea03b6866d4",
   "metadata": {},
   "outputs": [],
   "source": [
    "start_stations = combined_df[[\"start_station_name\",\"start_station_id\",\"start_lat\",\"start_lng\"]]\n",
    "end_stations = combined_df[[\"end_station_name\",\"end_station_id\",\"end_lat\",\"end_lng\"]]\n",
    "start_stations = start_stations.loc[start_stations['start_station_name'].notna()]\n",
    "end_stations = end_stations.loc[end_stations['end_station_name'].notna()]\n",
    "start_stations.rename(columns = {\"start_station_name\":\"station_name\",\n",
    "                                \"start_station_id\":\"station_id\",\n",
    "                                \"start_lat\":\"lat\",\n",
    "                                 \"start_lng\":\"lng\"}, inplace=True)\n",
    "\n",
    "end_stations.rename(columns = {\"end_station_name\":\"station_name\",\n",
    "                                \"end_station_id\":\"station_id\",\n",
    "                                \"end_lat\":\"lat\",\n",
    "                                 \"end_lng\":\"lng\"}, inplace=True )\n",
    "stations = pd.concat([start_stations, end_stations])\n",
    "stations = stations.drop_duplicates(subset=[\"station_name\",\"station_id\"])"
   ]
  },
  {
   "cell_type": "code",
   "execution_count": 10,
   "id": "b1e88cda-9fed-4897-abc0-a15f4d8b7fc7",
   "metadata": {},
   "outputs": [],
   "source": [
    "combined_gdf = gpd.GeoDataFrame(stations, geometry=gpd.points_from_xy(stations.lng, stations.lat), crs=\"EPSG:4326\")"
   ]
  },
  {
   "cell_type": "code",
   "execution_count": 11,
   "id": "827374d5-ba95-48bb-86e4-73ee7d7ffec1",
   "metadata": {},
   "outputs": [
    {
     "name": "stdout",
     "output_type": "stream",
     "text": [
      "<class 'geopandas.geodataframe.GeoDataFrame'>\n",
      "Index: 824 entries, 0 to 344888\n",
      "Data columns (total 5 columns):\n",
      " #   Column        Non-Null Count  Dtype   \n",
      "---  ------        --------------  -----   \n",
      " 0   station_name  824 non-null    object  \n",
      " 1   station_id    824 non-null    object  \n",
      " 2   lat           824 non-null    float64 \n",
      " 3   lng           824 non-null    float64 \n",
      " 4   geometry      824 non-null    geometry\n",
      "dtypes: float64(2), geometry(1), object(2)\n",
      "memory usage: 38.6+ KB\n"
     ]
    }
   ],
   "source": [
    "combined_gdf.info()"
   ]
  },
  {
   "cell_type": "markdown",
   "id": "926922e7-f034-4850-8c16-378ca6bf64b8",
   "metadata": {},
   "source": [
    "# Pull in Weather Data to add to rides"
   ]
  },
  {
   "cell_type": "code",
   "execution_count": 48,
   "id": "726ed527-af90-48ac-a936-54fa66471964",
   "metadata": {},
   "outputs": [],
   "source": [
    "# Function to fetch weather data\n",
    "def fetch_weather_data(lat, lon, date, api_key):\n",
    "    url = \"https://api.openweathermap.org/data/3.0/onecall/day_summary?\"\n",
    "    params = {\n",
    "        'lat': lat,\n",
    "        'lon': lon,\n",
    "        'date': date.strftime('%Y-%m-%d'),\n",
    "        'appid': api_key\n",
    "    }\n",
    "    response = requests.get(url, params=params)\n",
    "    return response.json()\n",
    "# Parameters\n",
    "api_key = \"32964f206a33b141c84d7f13e55a92d4\"\n",
    "dc_lat = 38.8950368\n",
    "dc_lon = -77.0365427\n",
    "start_date = datetime(2023, 1, 1)\n",
    "end_date = datetime(2023, 3, 31)\n",
    "\n",
    "# Create a list of dates for each day within the date range\n",
    "date_range = [start_date + timedelta(days=x) for x in range((end_date - start_date).days + 1)]\n"
   ]
  },
  {
   "cell_type": "code",
   "execution_count": 49,
   "id": "2375d4e6-ce17-4a3d-bd18-e9ab5fb6cb02",
   "metadata": {},
   "outputs": [],
   "source": [
    "# Fetch data\n",
    "weather_data = fetch_weather_data(dc_lat, dc_lon, start_date, api_key)\n"
   ]
  },
  {
   "cell_type": "code",
   "execution_count": null,
   "id": "826d7b29-672c-4cd7-966f-c987f6e41c53",
   "metadata": {},
   "outputs": [],
   "source": [
    "weather_data"
   ]
  },
  {
   "cell_type": "code",
   "execution_count": 47,
   "id": "85f366a7-d79b-46a8-9bb1-398096e98ac9",
   "metadata": {},
   "outputs": [
    {
     "ename": "NameError",
     "evalue": "name 'latitude' is not defined",
     "output_type": "error",
     "traceback": [
      "\u001b[0;31m---------------------------------------------------------------------------\u001b[0m",
      "\u001b[0;31mNameError\u001b[0m                                 Traceback (most recent call last)",
      "Cell \u001b[0;32mIn[47], line 4\u001b[0m\n\u001b[1;32m      2\u001b[0m daily_data \u001b[38;5;241m=\u001b[39m []\n\u001b[1;32m      3\u001b[0m \u001b[38;5;28;01mfor\u001b[39;00m date \u001b[38;5;129;01min\u001b[39;00m date_range:\n\u001b[0;32m----> 4\u001b[0m     weather_data \u001b[38;5;241m=\u001b[39m fetch_weather_data(\u001b[43mlatitude\u001b[49m, longitude, date, api_key)\n\u001b[1;32m      5\u001b[0m     daily_data\u001b[38;5;241m.\u001b[39mappend({\n\u001b[1;32m      6\u001b[0m         \u001b[38;5;124m'\u001b[39m\u001b[38;5;124mdate\u001b[39m\u001b[38;5;124m'\u001b[39m: weather_data[\u001b[38;5;124m'\u001b[39m\u001b[38;5;124mdate\u001b[39m\u001b[38;5;124m'\u001b[39m],\n\u001b[1;32m      7\u001b[0m         \u001b[38;5;124m'\u001b[39m\u001b[38;5;124mmin_temp\u001b[39m\u001b[38;5;124m'\u001b[39m: weather_data[\u001b[38;5;124m'\u001b[39m\u001b[38;5;124mtemperature\u001b[39m\u001b[38;5;124m'\u001b[39m][\u001b[38;5;124m'\u001b[39m\u001b[38;5;124mmin\u001b[39m\u001b[38;5;124m'\u001b[39m],\n\u001b[0;32m   (...)\u001b[0m\n\u001b[1;32m     18\u001b[0m         \u001b[38;5;124m'\u001b[39m\u001b[38;5;124mcloud_cover\u001b[39m\u001b[38;5;124m'\u001b[39m: weather_data[\u001b[38;5;124m'\u001b[39m\u001b[38;5;124mcloud_cover\u001b[39m\u001b[38;5;124m'\u001b[39m][\u001b[38;5;124m'\u001b[39m\u001b[38;5;124mafternoon\u001b[39m\u001b[38;5;124m'\u001b[39m]\n\u001b[1;32m     19\u001b[0m     })\n",
      "\u001b[0;31mNameError\u001b[0m: name 'latitude' is not defined"
     ]
    }
   ],
   "source": [
    "# Fetch data\n",
    "daily_data = []\n",
    "for date in date_range:\n",
    "    weather_data = fetch_weather_data(latitude, longitude, date, api_key)\n",
    "    daily_data.append({\n",
    "        'date': weather_data['date'],\n",
    "        'min_temp': weather_data['temperature']['min'],\n",
    "        'max_temp': weather_data['temperature']['max'],\n",
    "        'afternoon_temp': weather_data['temperature']['afternoon'],\n",
    "        'night_temp': weather_data['temperature']['night'],\n",
    "        'evening_temp': weather_data['temperature']['evening'],\n",
    "        'morning_temp': weather_data['temperature']['morning'],\n",
    "        'humidity': weather_data['humidity']['afternoon'],\n",
    "        'pressure': weather_data['pressure']['afternoon'],\n",
    "        'wind_speed': weather_data['wind']['max']['speed'],\n",
    "        'wind_direction': weather_data['wind']['max']['direction'],\n",
    "        'precipitation': weather_data['precipitation']['total'],\n",
    "        'cloud_cover': weather_data['cloud_cover']['afternoon']\n",
    "    })"
   ]
  },
  {
   "cell_type": "code",
   "execution_count": null,
   "id": "c820047d-1a2f-4d83-bbec-a68646fc6517",
   "metadata": {},
   "outputs": [],
   "source": [
    "# Process and save data\n",
    "weather_df = pd.DataFrame(daily_data)"
   ]
  },
  {
   "cell_type": "code",
   "execution_count": null,
   "id": "6601c499-4f90-4cbd-96e5-497523662f0c",
   "metadata": {},
   "outputs": [],
   "source": []
  },
  {
   "cell_type": "markdown",
   "id": "e11ce692-599b-484e-8d7e-d5d657f62f5d",
   "metadata": {},
   "source": [
    "# Start Analysis for Underserved Rides \n",
    "\n",
    "The idea for this analysis is that if "
   ]
  },
  {
   "cell_type": "code",
   "execution_count": null,
   "id": "65eab19a-b9a3-4d2a-a3fd-b41c5a799783",
   "metadata": {},
   "outputs": [],
   "source": []
  },
  {
   "cell_type": "code",
   "execution_count": null,
   "id": "d8f5590c-2f87-4525-bf57-6d64237201b1",
   "metadata": {},
   "outputs": [],
   "source": []
  },
  {
   "cell_type": "code",
   "execution_count": null,
   "id": "becfc037-6ac1-46f8-8a20-ea538a7eeeca",
   "metadata": {},
   "outputs": [],
   "source": []
  },
  {
   "cell_type": "code",
   "execution_count": null,
   "id": "6534c18a-9da4-48c5-9392-06d02aac2998",
   "metadata": {},
   "outputs": [],
   "source": []
  }
 ],
 "metadata": {
  "kernelspec": {
   "display_name": "Python 3 (ipykernel)",
   "language": "python",
   "name": "python3"
  },
  "language_info": {
   "codemirror_mode": {
    "name": "ipython",
    "version": 3
   },
   "file_extension": ".py",
   "mimetype": "text/x-python",
   "name": "python",
   "nbconvert_exporter": "python",
   "pygments_lexer": "ipython3",
   "version": "3.12.4"
  }
 },
 "nbformat": 4,
 "nbformat_minor": 5
}
