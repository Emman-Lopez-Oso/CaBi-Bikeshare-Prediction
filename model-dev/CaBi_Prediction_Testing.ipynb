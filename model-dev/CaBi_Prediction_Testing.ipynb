{
 "cells": [
  {
   "cell_type": "code",
   "execution_count": 1,
   "id": "f3b7022c-b799-4a2e-a2ae-45bbb4fe3898",
   "metadata": {},
   "outputs": [],
   "source": [
    "# I/O\n",
    "import pandas as pd\n",
    "import numpy as np\n",
    "import geopandas as gpd\n",
    "import requests\n",
    "from io import BytesIO\n",
    "from zipfile import ZipFile"
   ]
  },
  {
   "cell_type": "code",
   "execution_count": 2,
   "id": "b67cac9c-44fb-405d-8bb1-fc98f60f0ea3",
   "metadata": {},
   "outputs": [],
   "source": [
    "# URL of the zipped data file\n",
    "url = 'https://s3.amazonaws.com/capitalbikeshare-data/202301-capitalbikeshare-tripdata.zip'"
   ]
  },
  {
   "cell_type": "code",
   "execution_count": 3,
   "id": "bb4cd35c-500f-4bda-bafc-697a2536ea80",
   "metadata": {},
   "outputs": [],
   "source": [
    "# Download the zipped file\n",
    "response = requests.get(url)\n",
    "zipfile = ZipFile(BytesIO(response.content))"
   ]
  },
  {
   "cell_type": "code",
   "execution_count": 4,
   "id": "c6fb2d3f-117a-48f9-8a81-b171c464739e",
   "metadata": {},
   "outputs": [
    {
     "data": {
      "text/plain": [
       "['202301-capitalbikeshare-tripdata.csv',\n",
       " '__MACOSX/._202301-capitalbikeshare-tripdata.csv']"
      ]
     },
     "execution_count": 4,
     "metadata": {},
     "output_type": "execute_result"
    }
   ],
   "source": [
    "# List files in the zip file\n",
    "zipfile.namelist()"
   ]
  },
  {
   "cell_type": "code",
   "execution_count": 5,
   "id": "e21b2d43-b0ea-48fe-a52a-9e08503d25e5",
   "metadata": {},
   "outputs": [],
   "source": [
    "# zipfile is the first item in the list\n",
    "file_name = zipfile.namelist()[0]\n",
    "\n",
    "# Read the desired file into a pandas DataFrame  \n",
    "with zipfile.open(file_name) as file:\n",
    "    df = pd.read_csv(file)"
   ]
  },
  {
   "cell_type": "code",
   "execution_count": 6,
   "id": "ec091b7b-b2a6-4c59-913a-a8781d8021da",
   "metadata": {},
   "outputs": [
    {
     "data": {
      "text/html": [
       "<div>\n",
       "<style scoped>\n",
       "    .dataframe tbody tr th:only-of-type {\n",
       "        vertical-align: middle;\n",
       "    }\n",
       "\n",
       "    .dataframe tbody tr th {\n",
       "        vertical-align: top;\n",
       "    }\n",
       "\n",
       "    .dataframe thead th {\n",
       "        text-align: right;\n",
       "    }\n",
       "</style>\n",
       "<table border=\"1\" class=\"dataframe\">\n",
       "  <thead>\n",
       "    <tr style=\"text-align: right;\">\n",
       "      <th></th>\n",
       "      <th>ride_id</th>\n",
       "      <th>rideable_type</th>\n",
       "      <th>started_at</th>\n",
       "      <th>ended_at</th>\n",
       "      <th>start_station_name</th>\n",
       "      <th>start_station_id</th>\n",
       "      <th>end_station_name</th>\n",
       "      <th>end_station_id</th>\n",
       "      <th>start_lat</th>\n",
       "      <th>start_lng</th>\n",
       "      <th>end_lat</th>\n",
       "      <th>end_lng</th>\n",
       "      <th>member_casual</th>\n",
       "    </tr>\n",
       "  </thead>\n",
       "  <tbody>\n",
       "    <tr>\n",
       "      <th>0</th>\n",
       "      <td>65F0ACD101BF0D49</td>\n",
       "      <td>classic_bike</td>\n",
       "      <td>2023-01-04 19:34:07</td>\n",
       "      <td>2023-01-04 19:39:29</td>\n",
       "      <td>East Falls Church Metro / Sycamore St &amp; 19th St N</td>\n",
       "      <td>31904.0</td>\n",
       "      <td>W Columbia St &amp; N Washington St</td>\n",
       "      <td>32609.0</td>\n",
       "      <td>38.885321</td>\n",
       "      <td>-77.156427</td>\n",
       "      <td>38.885621</td>\n",
       "      <td>-77.166917</td>\n",
       "      <td>member</td>\n",
       "    </tr>\n",
       "    <tr>\n",
       "      <th>1</th>\n",
       "      <td>D75158CE73DC43F0</td>\n",
       "      <td>classic_bike</td>\n",
       "      <td>2023-01-27 15:26:38</td>\n",
       "      <td>2023-01-27 19:21:36</td>\n",
       "      <td>Carroll &amp; Westmoreland Ave</td>\n",
       "      <td>32025.0</td>\n",
       "      <td>Fenton St &amp; Ellsworth Dr</td>\n",
       "      <td>32036.0</td>\n",
       "      <td>38.975000</td>\n",
       "      <td>-77.011210</td>\n",
       "      <td>38.997033</td>\n",
       "      <td>-77.025608</td>\n",
       "      <td>member</td>\n",
       "    </tr>\n",
       "    <tr>\n",
       "      <th>2</th>\n",
       "      <td>33E85889625FF7CA</td>\n",
       "      <td>classic_bike</td>\n",
       "      <td>2023-01-05 20:44:38</td>\n",
       "      <td>2023-01-05 20:51:18</td>\n",
       "      <td>15th &amp; L St NW</td>\n",
       "      <td>31276.0</td>\n",
       "      <td>Thomas Circle</td>\n",
       "      <td>31241.0</td>\n",
       "      <td>38.903649</td>\n",
       "      <td>-77.034918</td>\n",
       "      <td>38.905900</td>\n",
       "      <td>-77.032500</td>\n",
       "      <td>member</td>\n",
       "    </tr>\n",
       "    <tr>\n",
       "      <th>3</th>\n",
       "      <td>E1F055A1651F47A1</td>\n",
       "      <td>classic_bike</td>\n",
       "      <td>2023-01-03 17:45:14</td>\n",
       "      <td>2023-01-03 17:57:23</td>\n",
       "      <td>Hartland Rd &amp; Harte Pl</td>\n",
       "      <td>32255.0</td>\n",
       "      <td>Merrifield Cinema &amp; Merrifield Town Center</td>\n",
       "      <td>32235.0</td>\n",
       "      <td>38.878601</td>\n",
       "      <td>-77.222808</td>\n",
       "      <td>38.870093</td>\n",
       "      <td>-77.229970</td>\n",
       "      <td>member</td>\n",
       "    </tr>\n",
       "    <tr>\n",
       "      <th>4</th>\n",
       "      <td>88CC90CEEC298BAF</td>\n",
       "      <td>classic_bike</td>\n",
       "      <td>2023-01-03 05:18:46</td>\n",
       "      <td>2023-01-03 05:25:50</td>\n",
       "      <td>Merrifield Cinema &amp; Merrifield Town Center</td>\n",
       "      <td>32235.0</td>\n",
       "      <td>Hartland Rd &amp; Harte Pl</td>\n",
       "      <td>32255.0</td>\n",
       "      <td>38.870093</td>\n",
       "      <td>-77.229970</td>\n",
       "      <td>38.878601</td>\n",
       "      <td>-77.222808</td>\n",
       "      <td>member</td>\n",
       "    </tr>\n",
       "  </tbody>\n",
       "</table>\n",
       "</div>"
      ],
      "text/plain": [
       "            ride_id rideable_type           started_at             ended_at  \\\n",
       "0  65F0ACD101BF0D49  classic_bike  2023-01-04 19:34:07  2023-01-04 19:39:29   \n",
       "1  D75158CE73DC43F0  classic_bike  2023-01-27 15:26:38  2023-01-27 19:21:36   \n",
       "2  33E85889625FF7CA  classic_bike  2023-01-05 20:44:38  2023-01-05 20:51:18   \n",
       "3  E1F055A1651F47A1  classic_bike  2023-01-03 17:45:14  2023-01-03 17:57:23   \n",
       "4  88CC90CEEC298BAF  classic_bike  2023-01-03 05:18:46  2023-01-03 05:25:50   \n",
       "\n",
       "                                  start_station_name  start_station_id  \\\n",
       "0  East Falls Church Metro / Sycamore St & 19th St N           31904.0   \n",
       "1                         Carroll & Westmoreland Ave           32025.0   \n",
       "2                                     15th & L St NW           31276.0   \n",
       "3                             Hartland Rd & Harte Pl           32255.0   \n",
       "4         Merrifield Cinema & Merrifield Town Center           32235.0   \n",
       "\n",
       "                             end_station_name  end_station_id  start_lat  \\\n",
       "0             W Columbia St & N Washington St         32609.0  38.885321   \n",
       "1                   Fenton St & Ellsworth Dr          32036.0  38.975000   \n",
       "2                               Thomas Circle         31241.0  38.903649   \n",
       "3  Merrifield Cinema & Merrifield Town Center         32235.0  38.878601   \n",
       "4                      Hartland Rd & Harte Pl         32255.0  38.870093   \n",
       "\n",
       "   start_lng    end_lat    end_lng member_casual  \n",
       "0 -77.156427  38.885621 -77.166917        member  \n",
       "1 -77.011210  38.997033 -77.025608        member  \n",
       "2 -77.034918  38.905900 -77.032500        member  \n",
       "3 -77.222808  38.870093 -77.229970        member  \n",
       "4 -77.229970  38.878601 -77.222808        member  "
      ]
     },
     "execution_count": 6,
     "metadata": {},
     "output_type": "execute_result"
    }
   ],
   "source": [
    "# Display the DataFrame\n",
    "df.head()"
   ]
  },
  {
   "cell_type": "markdown",
   "id": "0ad29813-ffa2-4af0-b970-65d675200f42",
   "metadata": {},
   "source": [
    "# Exploratory Data Analysis  \n",
    "\n",
    "Let's start creating new variables within our dataset and taking a look at its structure. "
   ]
  },
  {
   "cell_type": "code",
   "execution_count": 7,
   "id": "2aa0a950-b00d-4d9b-92f4-e9a3a0997cf8",
   "metadata": {},
   "outputs": [
    {
     "name": "stdout",
     "output_type": "stream",
     "text": [
      "<class 'pandas.core.frame.DataFrame'>\n",
      "RangeIndex: 204077 entries, 0 to 204076\n",
      "Data columns (total 13 columns):\n",
      " #   Column              Non-Null Count   Dtype  \n",
      "---  ------              --------------   -----  \n",
      " 0   ride_id             204077 non-null  object \n",
      " 1   rideable_type       204077 non-null  object \n",
      " 2   started_at          204077 non-null  object \n",
      " 3   ended_at            204077 non-null  object \n",
      " 4   start_station_name  195428 non-null  object \n",
      " 5   start_station_id    195428 non-null  float64\n",
      " 6   end_station_name    194680 non-null  object \n",
      " 7   end_station_id      194680 non-null  float64\n",
      " 8   start_lat           204077 non-null  float64\n",
      " 9   start_lng           204077 non-null  float64\n",
      " 10  end_lat             203856 non-null  float64\n",
      " 11  end_lng             203856 non-null  float64\n",
      " 12  member_casual       204077 non-null  object \n",
      "dtypes: float64(6), object(7)\n",
      "memory usage: 20.2+ MB\n"
     ]
    }
   ],
   "source": [
    "df.info()"
   ]
  },
  {
   "cell_type": "code",
   "execution_count": 8,
   "id": "22479b9c-5974-4759-8a44-827e1f940651",
   "metadata": {},
   "outputs": [],
   "source": [
    "start_station_diff = 204077 - 195428\n",
    "end_station_diff = 204077 - 194680"
   ]
  },
  {
   "cell_type": "markdown",
   "id": "485d464e-e3a4-4d00-9fc3-f9b7c94d1279",
   "metadata": {},
   "source": [
    "Start creating variables: \n",
    "- Start and End Dates\n",
    "- Start and End Times\n",
    "- Convert Station IDs to Character Integers\n",
    "- Create new geoDFs that have start and end locations so that we can create the neighborhoods that they started and ended in\n",
    "- "
   ]
  },
  {
   "cell_type": "code",
   "execution_count": 40,
   "id": "93ecadb0-f639-4d51-99ea-8a71c04d4d6a",
   "metadata": {},
   "outputs": [],
   "source": [
    "df[\"started_at\"]= pd.to_datetime(df[\"started_at\"])\n",
    "df[\"started_at_date\"]= pd.to_datetime(df[\"started_at\"]).dt.date\n",
    "df[\"started_at_time\"]= pd.to_datetime(df[\"started_at\"]).dt.time\n",
    "df[\"ended_at\"]= pd.to_datetime(df[\"ended_at\"])\n",
    "df[\"ended_at_date\"]= pd.to_datetime(df[\"ended_at\"]).dt.date\n",
    "df[\"ended_at_time\"]= pd.to_datetime(df[\"ended_at\"]).dt.time\n",
    "df[\"duration\"] = pd.to_datetime(df[\"ended_at\"]) - pd.to_datetime(df[\"started_at\"])\n",
    "df[\"duration_minutes\"] = df.duration.apply(lambda td: td.total_seconds() / 60)\n",
    "df[\"start_station_id\"] = df[\"start_station_id\"].astype(str)\n",
    "df[\"end_station_id\"] = df[\"end_station_id\"].astype(str) "
   ]
  },
  {
   "cell_type": "markdown",
   "id": "19eb9e91-b215-4348-8738-d6c4dd823400",
   "metadata": {},
   "source": [
    "Create two new dataframes: \n",
    "1. Start times df that has the location they started at if it has a station\n",
    "2. End times df that has the location they ended at if it has a station "
   ]
  },
  {
   "cell_type": "code",
   "execution_count": 66,
   "id": "90b10ad6-4805-4670-b188-fea03b6866d4",
   "metadata": {},
   "outputs": [],
   "source": [
    "start_stations = df[[\"start_station_name\",\"start_station_id\",\"start_lat\",\"start_lng\"]]\n",
    "end_stations = df[[\"end_station_name\",\"end_station_id\",\"end_lat\",\"end_lng\"]]\n",
    "start_stations = start_stations.loc[start_stations['start_station_name'].notna()]\n",
    "end_stations = end_stations.loc[end_stations['end_station_name'].notna()]\n",
    "start_stations.rename(columns = {\"start_station_name\":\"station_name\",\n",
    "                                \"start_station_id\":\"station_id\",\n",
    "                                \"start_lat\":\"lat\",\n",
    "                                 \"start_lng\":\"lng\"}, inplace=True)\n",
    "\n",
    "end_stations.rename(columns = {\"end_station_name\":\"station_name\",\n",
    "                                \"end_station_id\":\"station_id\",\n",
    "                                \"end_lat\":\"lat\",\n",
    "                                 \"end_lng\":\"lng\"}, inplace=True )\n",
    "stations = pd.concat([start_stations, end_stations])\n",
    "stations = stations.drop_duplicates(subset=[\"station_name\",\"station_id\"])"
   ]
  },
  {
   "cell_type": "code",
   "execution_count": 68,
   "id": "b1e88cda-9fed-4897-abc0-a15f4d8b7fc7",
   "metadata": {},
   "outputs": [],
   "source": [
    "stations_gdf = gpd.GeoDataFrame(stations, geometry=gpd.points_from_xy(stations.lng, stations.lat), crs=\"EPSG:4326\")"
   ]
  },
  {
   "cell_type": "code",
   "execution_count": 63,
   "id": "827374d5-ba95-48bb-86e4-73ee7d7ffec1",
   "metadata": {},
   "outputs": [],
   "source": []
  },
  {
   "cell_type": "code",
   "execution_count": null,
   "id": "f88c5ebc-0768-4629-9135-2434d7267fae",
   "metadata": {},
   "outputs": [],
   "source": []
  },
  {
   "cell_type": "code",
   "execution_count": null,
   "id": "65eab19a-b9a3-4d2a-a3fd-b41c5a799783",
   "metadata": {},
   "outputs": [],
   "source": []
  },
  {
   "cell_type": "code",
   "execution_count": null,
   "id": "d8f5590c-2f87-4525-bf57-6d64237201b1",
   "metadata": {},
   "outputs": [],
   "source": []
  },
  {
   "cell_type": "code",
   "execution_count": null,
   "id": "becfc037-6ac1-46f8-8a20-ea538a7eeeca",
   "metadata": {},
   "outputs": [],
   "source": []
  },
  {
   "cell_type": "code",
   "execution_count": null,
   "id": "6534c18a-9da4-48c5-9392-06d02aac2998",
   "metadata": {},
   "outputs": [],
   "source": []
  }
 ],
 "metadata": {
  "kernelspec": {
   "display_name": "Python 3 (ipykernel)",
   "language": "python",
   "name": "python3"
  },
  "language_info": {
   "codemirror_mode": {
    "name": "ipython",
    "version": 3
   },
   "file_extension": ".py",
   "mimetype": "text/x-python",
   "name": "python",
   "nbconvert_exporter": "python",
   "pygments_lexer": "ipython3",
   "version": "3.12.4"
  }
 },
 "nbformat": 4,
 "nbformat_minor": 5
}
